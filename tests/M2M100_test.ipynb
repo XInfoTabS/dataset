{
 "cells": [
  {
   "cell_type": "code",
   "execution_count": 5,
   "id": "4e6fe939",
   "metadata": {},
   "outputs": [
    {
     "name": "stderr",
     "output_type": "stream",
     "text": [
      "[nltk_data] Downloading package wordnet to /home/ec3dev/nltk_data...\n",
      "[nltk_data]   Package wordnet is already up-to-date!\n"
     ]
    }
   ],
   "source": [
    "import time, os, json, os, math\n",
    "from collections import Counter,OrderedDict\n",
    "from typing import Any, Optional\n",
    "from pprint import pprint\n",
    "\n",
    "import pandas as pd\n",
    "import numpy as np\n",
    "\n",
    "import fuzzywuzzy as fw\n",
    "from fuzzywuzzy import fuzz\n",
    "\n",
    "import nltk\n",
    "from nltk.corpus import wordnet\n",
    "nltk.download('wordnet')\n",
    "\n",
    "import torch\n",
    "import torchtext as tt\n",
    "from torchtext.data.metrics import bleu_score\n",
    "\n",
    "from tqdm.notebook import tqdm, trange\n",
    "device = 'cuda' if torch.cuda.is_available() else 'cpu'"
   ]
  },
  {
   "cell_type": "code",
   "execution_count": 4,
   "id": "6351d4bf",
   "metadata": {},
   "outputs": [
    {
     "name": "stdout",
     "output_type": "stream",
     "text": [
      "cuda\n"
     ]
    }
   ],
   "source": [
    "print(device)"
   ]
  },
  {
   "cell_type": "code",
   "execution_count": 6,
   "id": "0f438caf",
   "metadata": {},
   "outputs": [],
   "source": [
    "def get_table_names(path:str = \"../../data/en/tables\",\n",
    "                is_subset: bool = False,\n",
    "                subset_path:Optional[str] = \"../input/xinfotabs/subsets/subset_300.json\") -> Any:\n",
    "\n",
    "    infotabs_tables = os.listdir(path)\n",
    "    if is_subset:\n",
    "        with open(subset_path, \"r\") as file:\n",
    "            subset = json.loads(file.read())\n",
    "        return (infotabs_tables, subset)\n",
    "    else: \n",
    "        return (infotabs_tables, None)"
   ]
  },
  {
   "cell_type": "code",
   "execution_count": 11,
   "id": "bc98d106",
   "metadata": {},
   "outputs": [
    {
     "name": "stdout",
     "output_type": "stream",
     "text": [
      "2719\n"
     ]
    }
   ],
   "source": [
    "# --- TEST ONLY; DO NOT INCLUDE ---\n",
    "all_tables = get_table_names(\"../data/en/tables\")\n",
    "print(len(all_tables))"
   ]
  },
  {
   "cell_type": "code",
   "execution_count": 12,
   "id": "e09be283",
   "metadata": {},
   "outputs": [
    {
     "name": "stdout",
     "output_type": "stream",
     "text": [
      "2719 303\n"
     ]
    }
   ],
   "source": [
    "# --- TEST ONLY; DO NOT INCLUDE ---\n",
    "all_tables, subset = get_table_names(\"../data/en/tables\", True, \"../utilities/additional_data/subsets/subset_300.json\")\n",
    "print(f\"{len(all_tables)} {len(subset['subset'])}\")"
   ]
  },
  {
   "cell_type": "code",
   "execution_count": 13,
   "id": "33126064",
   "metadata": {},
   "outputs": [],
   "source": [
    "def get_context_table (path: str = \"../../utilities/additional_data/table_categories.tsv\"):\n",
    "    context_table = pd.read_csv(path, delimiter='\\t', index_col=0)\n",
    "    return context_table"
   ]
  },
  {
   "cell_type": "code",
   "execution_count": 14,
   "id": "36594642",
   "metadata": {},
   "outputs": [
    {
     "data": {
      "text/html": [
       "<div>\n",
       "<style scoped>\n",
       "    .dataframe tbody tr th:only-of-type {\n",
       "        vertical-align: middle;\n",
       "    }\n",
       "\n",
       "    .dataframe tbody tr th {\n",
       "        vertical-align: top;\n",
       "    }\n",
       "\n",
       "    .dataframe thead th {\n",
       "        text-align: right;\n",
       "    }\n",
       "</style>\n",
       "<table border=\"1\" class=\"dataframe\">\n",
       "  <thead>\n",
       "    <tr style=\"text-align: right;\">\n",
       "      <th></th>\n",
       "      <th>category</th>\n",
       "    </tr>\n",
       "    <tr>\n",
       "      <th>table_id</th>\n",
       "      <th></th>\n",
       "    </tr>\n",
       "  </thead>\n",
       "  <tbody>\n",
       "    <tr>\n",
       "      <th>T187</th>\n",
       "      <td>WineYard</td>\n",
       "    </tr>\n",
       "    <tr>\n",
       "      <th>T639</th>\n",
       "      <td>WineYard</td>\n",
       "    </tr>\n",
       "    <tr>\n",
       "      <th>T1008</th>\n",
       "      <td>WineYard</td>\n",
       "    </tr>\n",
       "    <tr>\n",
       "      <th>T1328</th>\n",
       "      <td>WineYard</td>\n",
       "    </tr>\n",
       "    <tr>\n",
       "      <th>T1003</th>\n",
       "      <td>Sports Event</td>\n",
       "    </tr>\n",
       "  </tbody>\n",
       "</table>\n",
       "</div>"
      ],
      "text/plain": [
       "              category\n",
       "table_id              \n",
       "T187          WineYard\n",
       "T639          WineYard\n",
       "T1008         WineYard\n",
       "T1328         WineYard\n",
       "T1003     Sports Event"
      ]
     },
     "execution_count": 14,
     "metadata": {},
     "output_type": "execute_result"
    }
   ],
   "source": [
    "# --- TEST ONLY; DO NOT INCLUDE ---\n",
    "cnt_table = get_context_table('../utilities/additional_data/table_categories.tsv')\n",
    "cnt_table.head()"
   ]
  },
  {
   "cell_type": "code",
   "execution_count": 15,
   "id": "63c96b17",
   "metadata": {},
   "outputs": [],
   "source": [
    "def json_to_dict(path : str) -> dict:\n",
    "    with open(path, 'r') as file:\n",
    "        result_dict = dict(json.loads(file.read()))\n",
    "    return result_dict"
   ]
  },
  {
   "cell_type": "code",
   "execution_count": null,
   "id": "79d0fc43",
   "metadata": {},
   "outputs": [],
   "source": [
    "def get_linearized_tables(tables_path:str,\n",
    "                          context_table_path:str,\n",
    "                          is_subset:bool=False,\n",
    "                          subset_path:str):\n",
    "    table_names, subset = get_table_names(tables_path, is_subset, subset_path)\n",
    "    \n",
    "    \n",
    "    for table_code in subset['subset']:\n",
    "        # loading the table\n",
    "        table_path = infotabs_tables_path + '/' + table_code + '.json'\n",
    "        table = json_to_dict(table_path)\n",
    "\n",
    "        # getting the category\n",
    "        try:\n",
    "            category = cat_table.loc[table_code].category\n",
    "        except:\n",
    "            category = 'None'\n",
    "\n",
    "        # getting all the values for each key  \n",
    "        for key in table.keys():\n",
    "            subset_texts += [category + ' | ' + key + ' | ' + value for value in table[key]]\n",
    "\n",
    "    subset_texts = list(set(subset_texts))\n",
    "    print(f\"Length of the subset inputs: {len(subset_texts)}\")"
   ]
  }
 ],
 "metadata": {
  "kernelspec": {
   "display_name": "Python 3 (ipykernel)",
   "language": "python",
   "name": "python3"
  },
  "language_info": {
   "codemirror_mode": {
    "name": "ipython",
    "version": 3
   },
   "file_extension": ".py",
   "mimetype": "text/x-python",
   "name": "python",
   "nbconvert_exporter": "python",
   "pygments_lexer": "ipython3",
   "version": "3.8.10"
  }
 },
 "nbformat": 4,
 "nbformat_minor": 5
}
